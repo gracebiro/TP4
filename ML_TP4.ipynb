{
  "cells": [
    {
      "cell_type": "markdown",
      "metadata": {
        "id": "view-in-github",
        "colab_type": "text"
      },
      "source": [
        "<a href=\"https://colab.research.google.com/github/gracebiro/TP4/blob/main/ML_TP4.ipynb\" target=\"_parent\"><img src=\"https://colab.research.google.com/assets/colab-badge.svg\" alt=\"Open In Colab\"/></a>"
      ]
    },
    {
      "cell_type": "code",
      "execution_count": 1,
      "id": "15e7d053",
      "metadata": {
        "id": "15e7d053"
      },
      "outputs": [],
      "source": [
        "import urllib.request\n",
        "import pandas as pd\n",
        "from io import StringIO\n",
        "\n",
        "\n",
        "def get_melbourne_data() -> pd.DataFrame:\n",
        "    '''\n",
        "    Returns a dataframe of the melbourne data set.\n",
        "    :return: pd.DataFrame\n",
        "    '''\n",
        "\n",
        "    # URL of the raw csv data to download\n",
        "    raw_url = \"https://raw.githubusercontent.com/jbrownlee/Datasets/master/daily-min-temperatures.csv\"\n",
        "\n",
        "    # Get the earthquake data from the API\n",
        "    response = urllib.request.urlopen(raw_url)\n",
        "\n",
        "    # Decode earthquake data\n",
        "    response = response.read().decode('utf-8')\n",
        "\n",
        "    # Return as a pandas dataframe\n",
        "    data = pd.read_csv(StringIO(response))\n",
        "\n",
        "    # Cast the date column to datetime\n",
        "    data['Date'] = pd.to_datetime(data['Date'])\n",
        "\n",
        "    return data\n",
        "\n",
        "\n",
        "def split_train_test_data(melbourne_data: pd.DataFrame, split_year: str=\"1991\") -> (pd.DataFrame, pd.DataFrame):\n",
        "    '''\n",
        "    Split the melbourne data into a training dataframe and a test dataframe.\n",
        "    The training data is composed of all temperature points strictly anterior to the given split year.\n",
        "    The test data is composed of all the points posterior or equal to the split year.\n",
        "    :param melbourne_data: pd.DataFrame, with at least column ['Date']\n",
        "    :param split_year: str, the year to split the data on\n",
        "    :return: (pd.DataFrame, pd.DataFrame)\n",
        "    '''\n",
        "\n",
        "    # Format split year variable\n",
        "    split_year = \"{}\".format(int(split_year) - 1)\n",
        "\n",
        "    # Trainings data. Data anterior to the given split year\n",
        "    train_data = melbourne_data.loc[:split_year]\n",
        "\n",
        "    # Test data. Data posterior or equal to the given split year\n",
        "    test_data = melbourne_data.loc[split_year:]\n",
        "\n",
        "    return train_data, test_data\n"
      ]
    },
    {
      "cell_type": "code",
      "execution_count": 2,
      "id": "d75defe9",
      "metadata": {
        "id": "d75defe9"
      },
      "outputs": [],
      "source": [
        "def test_get_melbourne_data():\n",
        "    '''\n",
        "    Test the get_melbourne_data function.\n",
        "    '''\n",
        "    # Get the data\n",
        "    data = get_melbourne_data()\n",
        "    # Check dataset is not empty\n",
        "    return data\n",
        "\n",
        "\n",
        "def test_split_train_test_data():\n",
        "    '''\n",
        "    Test the split_train_test_data function.\n",
        "    '''\n",
        "    # Get the data\n",
        "    data = get_melbourne_data()\n",
        "    # Split the data\n",
        "    train, test = split_train_test_data(data, split_year=\"1991\")\n",
        "    # Check the train and test data are not empty\n",
        "    return train, test"
      ]
    },
    {
      "cell_type": "code",
      "execution_count": 3,
      "id": "a7d0be17",
      "metadata": {
        "colab": {
          "base_uri": "https://localhost:8080/",
          "height": 424
        },
        "id": "a7d0be17",
        "outputId": "e03b3994-5413-4175-9353-a4b373175989"
      },
      "outputs": [
        {
          "output_type": "execute_result",
          "data": {
            "text/plain": [
              "           Date  Temp\n",
              "0    1981-01-01  20.7\n",
              "1    1981-01-02  17.9\n",
              "2    1981-01-03  18.8\n",
              "3    1981-01-04  14.6\n",
              "4    1981-01-05  15.8\n",
              "...         ...   ...\n",
              "3645 1990-12-27  14.0\n",
              "3646 1990-12-28  13.6\n",
              "3647 1990-12-29  13.5\n",
              "3648 1990-12-30  15.7\n",
              "3649 1990-12-31  13.0\n",
              "\n",
              "[3650 rows x 2 columns]"
            ],
            "text/html": [
              "\n",
              "  <div id=\"df-22465b1b-9258-44e2-a070-6c6df96d6173\">\n",
              "    <div class=\"colab-df-container\">\n",
              "      <div>\n",
              "<style scoped>\n",
              "    .dataframe tbody tr th:only-of-type {\n",
              "        vertical-align: middle;\n",
              "    }\n",
              "\n",
              "    .dataframe tbody tr th {\n",
              "        vertical-align: top;\n",
              "    }\n",
              "\n",
              "    .dataframe thead th {\n",
              "        text-align: right;\n",
              "    }\n",
              "</style>\n",
              "<table border=\"1\" class=\"dataframe\">\n",
              "  <thead>\n",
              "    <tr style=\"text-align: right;\">\n",
              "      <th></th>\n",
              "      <th>Date</th>\n",
              "      <th>Temp</th>\n",
              "    </tr>\n",
              "  </thead>\n",
              "  <tbody>\n",
              "    <tr>\n",
              "      <th>0</th>\n",
              "      <td>1981-01-01</td>\n",
              "      <td>20.7</td>\n",
              "    </tr>\n",
              "    <tr>\n",
              "      <th>1</th>\n",
              "      <td>1981-01-02</td>\n",
              "      <td>17.9</td>\n",
              "    </tr>\n",
              "    <tr>\n",
              "      <th>2</th>\n",
              "      <td>1981-01-03</td>\n",
              "      <td>18.8</td>\n",
              "    </tr>\n",
              "    <tr>\n",
              "      <th>3</th>\n",
              "      <td>1981-01-04</td>\n",
              "      <td>14.6</td>\n",
              "    </tr>\n",
              "    <tr>\n",
              "      <th>4</th>\n",
              "      <td>1981-01-05</td>\n",
              "      <td>15.8</td>\n",
              "    </tr>\n",
              "    <tr>\n",
              "      <th>...</th>\n",
              "      <td>...</td>\n",
              "      <td>...</td>\n",
              "    </tr>\n",
              "    <tr>\n",
              "      <th>3645</th>\n",
              "      <td>1990-12-27</td>\n",
              "      <td>14.0</td>\n",
              "    </tr>\n",
              "    <tr>\n",
              "      <th>3646</th>\n",
              "      <td>1990-12-28</td>\n",
              "      <td>13.6</td>\n",
              "    </tr>\n",
              "    <tr>\n",
              "      <th>3647</th>\n",
              "      <td>1990-12-29</td>\n",
              "      <td>13.5</td>\n",
              "    </tr>\n",
              "    <tr>\n",
              "      <th>3648</th>\n",
              "      <td>1990-12-30</td>\n",
              "      <td>15.7</td>\n",
              "    </tr>\n",
              "    <tr>\n",
              "      <th>3649</th>\n",
              "      <td>1990-12-31</td>\n",
              "      <td>13.0</td>\n",
              "    </tr>\n",
              "  </tbody>\n",
              "</table>\n",
              "<p>3650 rows × 2 columns</p>\n",
              "</div>\n",
              "      <button class=\"colab-df-convert\" onclick=\"convertToInteractive('df-22465b1b-9258-44e2-a070-6c6df96d6173')\"\n",
              "              title=\"Convert this dataframe to an interactive table.\"\n",
              "              style=\"display:none;\">\n",
              "        \n",
              "  <svg xmlns=\"http://www.w3.org/2000/svg\" height=\"24px\"viewBox=\"0 0 24 24\"\n",
              "       width=\"24px\">\n",
              "    <path d=\"M0 0h24v24H0V0z\" fill=\"none\"/>\n",
              "    <path d=\"M18.56 5.44l.94 2.06.94-2.06 2.06-.94-2.06-.94-.94-2.06-.94 2.06-2.06.94zm-11 1L8.5 8.5l.94-2.06 2.06-.94-2.06-.94L8.5 2.5l-.94 2.06-2.06.94zm10 10l.94 2.06.94-2.06 2.06-.94-2.06-.94-.94-2.06-.94 2.06-2.06.94z\"/><path d=\"M17.41 7.96l-1.37-1.37c-.4-.4-.92-.59-1.43-.59-.52 0-1.04.2-1.43.59L10.3 9.45l-7.72 7.72c-.78.78-.78 2.05 0 2.83L4 21.41c.39.39.9.59 1.41.59.51 0 1.02-.2 1.41-.59l7.78-7.78 2.81-2.81c.8-.78.8-2.07 0-2.86zM5.41 20L4 18.59l7.72-7.72 1.47 1.35L5.41 20z\"/>\n",
              "  </svg>\n",
              "      </button>\n",
              "      \n",
              "  <style>\n",
              "    .colab-df-container {\n",
              "      display:flex;\n",
              "      flex-wrap:wrap;\n",
              "      gap: 12px;\n",
              "    }\n",
              "\n",
              "    .colab-df-convert {\n",
              "      background-color: #E8F0FE;\n",
              "      border: none;\n",
              "      border-radius: 50%;\n",
              "      cursor: pointer;\n",
              "      display: none;\n",
              "      fill: #1967D2;\n",
              "      height: 32px;\n",
              "      padding: 0 0 0 0;\n",
              "      width: 32px;\n",
              "    }\n",
              "\n",
              "    .colab-df-convert:hover {\n",
              "      background-color: #E2EBFA;\n",
              "      box-shadow: 0px 1px 2px rgba(60, 64, 67, 0.3), 0px 1px 3px 1px rgba(60, 64, 67, 0.15);\n",
              "      fill: #174EA6;\n",
              "    }\n",
              "\n",
              "    [theme=dark] .colab-df-convert {\n",
              "      background-color: #3B4455;\n",
              "      fill: #D2E3FC;\n",
              "    }\n",
              "\n",
              "    [theme=dark] .colab-df-convert:hover {\n",
              "      background-color: #434B5C;\n",
              "      box-shadow: 0px 1px 3px 1px rgba(0, 0, 0, 0.15);\n",
              "      filter: drop-shadow(0px 1px 2px rgba(0, 0, 0, 0.3));\n",
              "      fill: #FFFFFF;\n",
              "    }\n",
              "  </style>\n",
              "\n",
              "      <script>\n",
              "        const buttonEl =\n",
              "          document.querySelector('#df-22465b1b-9258-44e2-a070-6c6df96d6173 button.colab-df-convert');\n",
              "        buttonEl.style.display =\n",
              "          google.colab.kernel.accessAllowed ? 'block' : 'none';\n",
              "\n",
              "        async function convertToInteractive(key) {\n",
              "          const element = document.querySelector('#df-22465b1b-9258-44e2-a070-6c6df96d6173');\n",
              "          const dataTable =\n",
              "            await google.colab.kernel.invokeFunction('convertToInteractive',\n",
              "                                                     [key], {});\n",
              "          if (!dataTable) return;\n",
              "\n",
              "          const docLinkHtml = 'Like what you see? Visit the ' +\n",
              "            '<a target=\"_blank\" href=https://colab.research.google.com/notebooks/data_table.ipynb>data table notebook</a>'\n",
              "            + ' to learn more about interactive tables.';\n",
              "          element.innerHTML = '';\n",
              "          dataTable['output_type'] = 'display_data';\n",
              "          await google.colab.output.renderOutput(dataTable, element);\n",
              "          const docLink = document.createElement('div');\n",
              "          docLink.innerHTML = docLinkHtml;\n",
              "          element.appendChild(docLink);\n",
              "        }\n",
              "      </script>\n",
              "    </div>\n",
              "  </div>\n",
              "  "
            ]
          },
          "metadata": {},
          "execution_count": 3
        }
      ],
      "source": [
        "df=test_get_melbourne_data()\n",
        "df"
      ]
    },
    {
      "cell_type": "code",
      "execution_count": 4,
      "id": "29fdac6b",
      "metadata": {
        "id": "29fdac6b"
      },
      "outputs": [],
      "source": [
        "Y=df.iloc[len(df)-365:,:]\n",
        "X=df.iloc[:len(df)-365,:]"
      ]
    },
    {
      "cell_type": "code",
      "execution_count": 5,
      "id": "947adfa3",
      "metadata": {
        "colab": {
          "base_uri": "https://localhost:8080/"
        },
        "id": "947adfa3",
        "outputId": "a7783cbc-ee3f-435e-de97-92f179fbe36d"
      },
      "outputs": [
        {
          "output_type": "execute_result",
          "data": {
            "text/plain": [
              "3285"
            ]
          },
          "metadata": {},
          "execution_count": 5
        }
      ],
      "source": [
        "len(X)"
      ]
    },
    {
      "cell_type": "code",
      "execution_count": 5,
      "id": "e60ec22b",
      "metadata": {
        "id": "e60ec22b"
      },
      "outputs": [],
      "source": [
        ""
      ]
    },
    {
      "cell_type": "code",
      "execution_count": 6,
      "id": "13597f92",
      "metadata": {
        "colab": {
          "base_uri": "https://localhost:8080/",
          "height": 265
        },
        "id": "13597f92",
        "outputId": "66597538-ed7d-4afd-e6be-940acd057c60"
      },
      "outputs": [
        {
          "output_type": "display_data",
          "data": {
            "text/plain": [
              "<Figure size 432x288 with 1 Axes>"
            ],
            "image/png": "[encoded data removed]"
          },
          "metadata": {
            "needs_background": "light"
          }
        }
      ],
      "source": [
        "import matplotlib.pyplot as plt\n",
        "\n",
        "plt.plot(df.iloc[:,1:])\n",
        "plt.show()"
      ]
    },
    {
      "cell_type": "code",
      "execution_count": 7,
      "id": "e6ef56b1",
      "metadata": {
        "colab": {
          "base_uri": "https://localhost:8080/",
          "height": 265
        },
        "id": "e6ef56b1",
        "outputId": "00c0b47b-ac33-461c-8d0f-ac4251fb3de0"
      },
      "outputs": [
        {
          "output_type": "display_data",
          "data": {
            "text/plain": [
              "<Figure size 432x288 with 1 Axes>"
            ],
            "image/png": "[encoded data removed]"
          },
          "metadata": {
            "needs_background": "light"
          }
        }
      ],
      "source": [
        "plt.plot(df.iloc[:365,1:])\n",
        "plt.show()"
      ]
    },
    {
      "cell_type": "code",
      "execution_count": 8,
      "id": "21f104d0",
      "metadata": {
        "colab": {
          "base_uri": "https://localhost:8080/",
          "height": 265
        },
        "id": "21f104d0",
        "outputId": "6bcad85b-f771-4b91-e6df-8ba8f212d109"
      },
      "outputs": [
        {
          "output_type": "display_data",
          "data": {
            "text/plain": [
              "<Figure size 432x288 with 1 Axes>"
            ],
            "image/png": "[encoded data removed]"
          },
          "metadata": {
            "needs_background": "light"
          }
        }
      ],
      "source": [
        "plt.plot(df.iloc[366:730,1:])\n",
        "plt.show()"
      ]
    },
    {
      "cell_type": "code",
      "execution_count": 9,
      "id": "8d18c826",
      "metadata": {
        "colab": {
          "base_uri": "https://localhost:8080/"
        },
        "id": "8d18c826",
        "outputId": "6a96e7f1-992b-461d-fed2-3dbae8cac6bd"
      },
      "outputs": [
        {
          "output_type": "execute_result",
          "data": {
            "text/plain": [
              "3285"
            ]
          },
          "metadata": {},
          "execution_count": 9
        }
      ],
      "source": [
        "X.shape[0]\n",
        "\n",
        "\n",
        "# import numpy as np\n",
        "# np.reshape(np.arange(6),(3,2))\n",
        "len(X.iloc[:,1:].to_numpy())\n",
        "X_1=[]\n",
        "for i in range(len(X.iloc[:,1:].to_numpy())):\n",
        "    X_1.append(X.iloc[:,1:].to_numpy()[i][0])\n",
        "len(X_1)"
      ]
    },
    {
      "cell_type": "markdown",
      "id": "c5f9e968",
      "metadata": {
        "id": "c5f9e968"
      },
      "source": [
        "## Function that take a series and transform it to a dataset of shape(None,time steps, features)"
      ]
    },
    {
      "cell_type": "code",
      "execution_count": 10,
      "id": "b87d5c7d",
      "metadata": {
        "id": "b87d5c7d"
      },
      "outputs": [],
      "source": [
        "from pandas import DataFrame\n",
        "from pandas import concat\n",
        "\n",
        "def series_to_supervised(data, n_in=1, n_out=1, dropnan=True):\n",
        "    \"\"\"\n",
        "    Frame a time series as a supervised learning dataset.\n",
        "    Arguments:\n",
        "        data: Sequence of observations as a list or NumPy array.\n",
        "        n_in: Number of lag observations as input (X).\n",
        "        n_out: Number of observations as output (y).\n",
        "        dropnan: Boolean whether or not to drop rows with NaN values.\n",
        "    Returns:\n",
        "        Pandas DataFrame of series framed for supervised learning.\n",
        "    \"\"\"\n",
        "    n_vars = 1 if type(data) is list else data.shape[1]\n",
        "    df = DataFrame(data)\n",
        "    cols, names = list(), list()\n",
        "    # input sequence (t-n, ... t-1)\n",
        "    for i in range(n_in, 0, -1):\n",
        "        cols.append(df.shift(i))\n",
        "        names += [('var%d(t-%d)' % (j+1, i)) for j in range(n_vars)]\n",
        "    # forecast sequence (t, t+1, ... t+n)\n",
        "    for i in range(0, n_out):\n",
        "        cols.append(df.shift(-i))\n",
        "        if i == 0:\n",
        "            names += [('var%d(t)' % (j+1)) for j in range(n_vars)]\n",
        "        else:\n",
        "            names += [('var%d(t+%d)' % (j+1, i)) for j in range(n_vars)]\n",
        "    # put it all together\n",
        "    agg = concat(cols, axis=1)\n",
        "    agg.columns = names\n",
        "    # drop rows with NaN values\n",
        "    if dropnan:\n",
        "        agg.dropna(inplace=True)\n",
        "    return agg"
      ]
    },
    {
      "cell_type": "code",
      "execution_count": 11,
      "id": "68bf3367",
      "metadata": {
        "id": "68bf3367"
      },
      "outputs": [],
      "source": [
        "X=series_to_supervised(X_1, n_in=365, n_out=365, dropnan=True)"
      ]
    },
    {
      "cell_type": "code",
      "execution_count": 12,
      "id": "9b5a292d",
      "metadata": {
        "colab": {
          "base_uri": "https://localhost:8080/"
        },
        "id": "9b5a292d",
        "outputId": "3c7f821a-a259-44a1-fb4f-01b446bd7d64"
      },
      "outputs": [
        {
          "output_type": "execute_result",
          "data": {
            "text/plain": [
              "2556"
            ]
          },
          "metadata": {},
          "execution_count": 12
        }
      ],
      "source": [
        "X.to_numpy().shape[0]"
      ]
    },
    {
      "cell_type": "code",
      "execution_count": 13,
      "id": "4fb65175",
      "metadata": {
        "id": "4fb65175"
      },
      "outputs": [],
      "source": [
        "import numpy as np\n",
        "\n",
        "# reshape input to be [samples, time steps, features]\n",
        "trainX = np.reshape(X.to_numpy(), (X.to_numpy().shape[0], 2,365))\n"
      ]
    },
    {
      "cell_type": "code",
      "execution_count": 14,
      "id": "6b9d88a2",
      "metadata": {
        "colab": {
          "base_uri": "https://localhost:8080/"
        },
        "id": "6b9d88a2",
        "outputId": "c21f70de-5a6e-4014-8261-6513af0fba96"
      },
      "outputs": [
        {
          "output_type": "execute_result",
          "data": {
            "text/plain": [
              "(2556, 2, 365)"
            ]
          },
          "metadata": {},
          "execution_count": 14
        }
      ],
      "source": [
        "trainX.shape"
      ]
    },
    {
      "cell_type": "code",
      "execution_count": 15,
      "id": "de5d6b08",
      "metadata": {
        "scrolled": true,
        "colab": {
          "base_uri": "https://localhost:8080/"
        },
        "id": "de5d6b08",
        "outputId": "2d861cd4-df94-466d-fe6c-aa8aacf2daa2"
      },
      "outputs": [
        {
          "output_type": "execute_result",
          "data": {
            "text/plain": [
              "2556"
            ]
          },
          "metadata": {},
          "execution_count": 15
        }
      ],
      "source": [
        "len(trainX.reshape(2556,-1))"
      ]
    },
    {
      "cell_type": "code",
      "source": [
        "len(trainX[0])"
      ],
      "metadata": {
        "colab": {
          "base_uri": "https://localhost:8080/"
        },
        "id": "e7gkJ2uIBYIk",
        "outputId": "e9e04604-c491-4366-fbd2-bae510d56100"
      },
      "id": "e7gkJ2uIBYIk",
      "execution_count": 16,
      "outputs": [
        {
          "output_type": "execute_result",
          "data": {
            "text/plain": [
              "2"
            ]
          },
          "metadata": {},
          "execution_count": 16
        }
      ]
    },
    {
      "cell_type": "code",
      "source": [
        "X_train=[]\n",
        "Y_train=[]\n",
        "\n",
        "for i in range(len(trainX)):\n",
        "  X_train.append(trainX[i][0])\n",
        "  Y_train.append(trainX[i][1])\n"
      ],
      "metadata": {
        "id": "pQQoZlqt07xd"
      },
      "id": "pQQoZlqt07xd",
      "execution_count": 17,
      "outputs": []
    },
    {
      "cell_type": "code",
      "source": [
        "len(X_train),len(X_train[0])\n",
        "X_train[0][364]"
      ],
      "metadata": {
        "colab": {
          "base_uri": "https://localhost:8080/"
        },
        "id": "eihmLMbK1i1M",
        "outputId": "0fcebc30-fc38-4821-dc07-e3b56dc7f294"
      },
      "id": "eihmLMbK1i1M",
      "execution_count": 18,
      "outputs": [
        {
          "output_type": "execute_result",
          "data": {
            "text/plain": [
              "17.4"
            ]
          },
          "metadata": {},
          "execution_count": 18
        }
      ]
    },
    {
      "cell_type": "code",
      "source": [
        "len(Y_train)"
      ],
      "metadata": {
        "colab": {
          "base_uri": "https://localhost:8080/"
        },
        "id": "-urq1b_g1mUX",
        "outputId": "7b9e589f-6d24-46b4-a530-00db69db92a2"
      },
      "id": "-urq1b_g1mUX",
      "execution_count": 19,
      "outputs": [
        {
          "output_type": "execute_result",
          "data": {
            "text/plain": [
              "2556"
            ]
          },
          "metadata": {},
          "execution_count": 19
        }
      ]
    },
    {
      "cell_type": "code",
      "source": [
        "np.arange(6).reshape(2,3)"
      ],
      "metadata": {
        "colab": {
          "base_uri": "https://localhost:8080/"
        },
        "id": "Gb3FIW2gDAmx",
        "outputId": "a7f3c035-e775-43cd-f3a7-26403424674f"
      },
      "id": "Gb3FIW2gDAmx",
      "execution_count": 20,
      "outputs": [
        {
          "output_type": "execute_result",
          "data": {
            "text/plain": [
              "array([[0, 1, 2],\n",
              "       [3, 4, 5]])"
            ]
          },
          "metadata": {},
          "execution_count": 20
        }
      ]
    },
    {
      "cell_type": "code",
      "execution_count": 21,
      "id": "85a1a84c",
      "metadata": {
        "colab": {
          "base_uri": "https://localhost:8080/"
        },
        "id": "85a1a84c",
        "outputId": "cf92f3e4-a782-48fe-dbb6-9c43a90f9289"
      },
      "outputs": [
        {
          "output_type": "execute_result",
          "data": {
            "text/plain": [
              "(2556, 365)"
            ]
          },
          "metadata": {},
          "execution_count": 21
        }
      ],
      "source": [
        "from keras.layers import Input, LSTM, Dense\n",
        "from keras.models import Sequential,Model\n",
        "np.array(X_train).shape"
      ]
    },
    {
      "cell_type": "code",
      "source": [
        "model_input=Input(shape=(365,1))\n",
        "\n",
        "# model=Sequential()\n",
        "\n",
        "# model.add(LSTM(4, input_shape=(365,1)))\n",
        "# model.add(Dense(365))\n",
        "# model.compile(loss='mse', optimizer='adam')\n",
        "# model.fit(X_train, Y_train, epochs=100, batch_size=1,verbose=2)\n",
        "\n",
        "z1=LSTM(8,activation='relu', name='x')(model_input)\n",
        "\n",
        "y=Dense(1,activation='linear', name='Dense')(z1)\n",
        "\n",
        "model_keras=Model(inputs=model_input, outputs=y)\n",
        "\n",
        "model_keras.compile(optimizer='adam', loss='mse')\n",
        "\n",
        "model_keras.summary()"
      ],
      "metadata": {
        "colab": {
          "base_uri": "https://localhost:8080/"
        },
        "id": "9R7wDXfNy6JS",
        "outputId": "c188c2ac-b96c-4d52-d022-c48a321f27ca"
      },
      "id": "9R7wDXfNy6JS",
      "execution_count": 22,
      "outputs": [
        {
          "output_type": "stream",
          "name": "stdout",
          "text": [
            "Model: \"model\"\n",
            "_________________________________________________________________\n",
            " Layer (type)                Output Shape              Param #   \n",
            "=================================================================\n",
            " input_1 (InputLayer)        [(None, 365, 1)]          0         \n",
            "                                                                 \n",
            " x (LSTM)                    (None, 8)                 320       \n",
            "                                                                 \n",
            " Dense (Dense)               (None, 1)                 9         \n",
            "                                                                 \n",
            "=================================================================\n",
            "Total params: 329\n",
            "Trainable params: 329\n",
            "Non-trainable params: 0\n",
            "_________________________________________________________________\n"
          ]
        }
      ]
    },
    {
      "cell_type": "code",
      "source": [
        "# from keras.layers import Input, LSTM, Dense\n",
        "# from keras.models import Sequential,Model\n",
        "# import tensorflow as tf\n",
        "\n",
        "# model = Sequential()  \n",
        "\n",
        "# model.add(LSTM(128, input_shape=(X_train.shape[1:]), activation=\"relu\", return_sequences=True))  \n",
        "\n",
        "# model.add(LSTM(128, activation=\"relu\"))  \n",
        "\n",
        "# model.add(Dense(128, activation=\"relu\")) \n",
        "\n",
        "# model.add(Dense(10, activation=\"softmax\"))\n",
        "# opt=tf.keras.optimizers.Adam(lr=1e-3, decay=1e-5)\n",
        "\n",
        "# model.compile(loss=tf.keras.metrics.sparse_categorical_crossentropy,\n",
        "#               optimizer=opt, \n",
        "#               metrics=['accuracy'])"
      ],
      "metadata": {
        "id": "YjWIYd_dOb8_"
      },
      "id": "YjWIYd_dOb8_",
      "execution_count": 23,
      "outputs": []
    },
    {
      "cell_type": "code",
      "source": [
        "model_keras.fit(np.array(X_train), np.array(Y_train), batch_size=64, epochs=10)"
      ],
      "metadata": {
        "colab": {
          "base_uri": "https://localhost:8080/"
        },
        "id": "-1sOnBgGJGba",
        "outputId": "dd9dd1f4-c47f-4536-a398-74cefcee30fb"
      },
      "id": "-1sOnBgGJGba",
      "execution_count": 24,
      "outputs": [
        {
          "output_type": "stream",
          "name": "stdout",
          "text": [
            "Epoch 1/10\n",
            "40/40 [==============================] - 6s 114ms/step - loss: 105.6229\n",
            "Epoch 2/10\n",
            "40/40 [==============================] - 5s 112ms/step - loss: 63.1498\n",
            "Epoch 3/10\n",
            "40/40 [==============================] - 5s 113ms/step - loss: 22.7226\n",
            "Epoch 4/10\n",
            "40/40 [==============================] - 5s 114ms/step - loss: 16.6164\n",
            "Epoch 5/10\n",
            "40/40 [==============================] - 5s 113ms/step - loss: 16.3505\n",
            "Epoch 6/10\n",
            "40/40 [==============================] - 6s 155ms/step - loss: 16.2440\n",
            "Epoch 7/10\n",
            "40/40 [==============================] - 4s 113ms/step - loss: 16.1725\n",
            "Epoch 8/10\n",
            "40/40 [==============================] - 4s 111ms/step - loss: 16.1208\n",
            "Epoch 9/10\n",
            "40/40 [==============================] - 4s 112ms/step - loss: 16.0719\n",
            "Epoch 10/10\n",
            "40/40 [==============================] - 4s 112ms/step - loss: 16.0279\n"
          ]
        },
        {
          "output_type": "execute_result",
          "data": {
            "text/plain": [
              "<keras.callbacks.History at 0x7f3dc2d0a450>"
            ]
          },
          "metadata": {},
          "execution_count": 24
        }
      ]
    },
    {
      "cell_type": "code",
      "source": [
        "y_pred=model_keras.predict(np.array(X_train))\n"
      ],
      "metadata": {
        "id": "j93VFkrKRl0X"
      },
      "id": "j93VFkrKRl0X",
      "execution_count": 25,
      "outputs": []
    },
    {
      "cell_type": "code",
      "source": [
        "np.array(Y_train).shape"
      ],
      "metadata": {
        "colab": {
          "base_uri": "https://localhost:8080/"
        },
        "id": "9SJmVcE_XNGA",
        "outputId": "7dfb69b1-e81a-4168-890c-653cbceab1ba"
      },
      "id": "9SJmVcE_XNGA",
      "execution_count": 26,
      "outputs": [
        {
          "output_type": "execute_result",
          "data": {
            "text/plain": [
              "(2556, 365)"
            ]
          },
          "metadata": {},
          "execution_count": 26
        }
      ]
    },
    {
      "cell_type": "code",
      "source": [
        "import matplotlib.pyplot as plt\n",
        "\n",
        "plt.plot(Y_train[0], color='red')\n",
        "plt.plot(y_pred[0:365], color='yellow')\n",
        "\n",
        "y_pred"
      ],
      "metadata": {
        "colab": {
          "base_uri": "https://localhost:8080/",
          "height": 387
        },
        "id": "sBN0_keiSkvQ",
        "outputId": "8028839c-f48b-4b29-bbd1-775ee6d0100e"
      },
      "id": "sBN0_keiSkvQ",
      "execution_count": 27,
      "outputs": [
        {
          "output_type": "execute_result",
          "data": {
            "text/plain": [
              "array([[11.262521 ],\n",
              "       [11.1536875],\n",
              "       [10.813577 ],\n",
              "       ...,\n",
              "       [10.42585  ],\n",
              "       [10.714017 ],\n",
              "       [10.605171 ]], dtype=float32)"
            ]
          },
          "metadata": {},
          "execution_count": 27
        },
        {
          "output_type": "display_data",
          "data": {
            "text/plain": [
              "<Figure size 432x288 with 1 Axes>"
            ],
            "image/png": "[encoded data removed]"
          },
          "metadata": {
            "needs_background": "light"
          }
        }
      ]
    },
    {
      "cell_type": "markdown",
      "id": "dbc6b300",
      "metadata": {
        "id": "dbc6b300"
      },
      "source": [
        "# ESGF Melbourne (dev)\n",
        "\n",
        "## Data\n",
        "\n",
        "Minimum daily temperatures over 10 years (1981-1990) in the city Melbourne, Australia.\n",
        "\n",
        "![Daily temperature evolution](docs/pics/temperature_evolution.png \"Daily Temperature Evolution\")\n",
        "\n",
        "## Objective\n",
        "\n",
        "We want to build a model able to predict the **daily** temperature in Melbourne over the **next year**.\n",
        "\n",
        "## Evaluation\n",
        "\n",
        "Fit one or more models using the data strictly anterior to the evaluation years \n",
        "`t=1987`, `t=1988` and `t=1989` in order to predict the daily temperature \n",
        "during the year `t=1987`, `t=1988` and `t=1989` respectively.\n",
        "\n",
        "### Results\n",
        "\n",
        "Choose a suitable metric to evaluate the performance of your models. \n",
        "Report the metric in the following table. \n",
        "\n",
        "For each evaluation year `t`, you must report the performance considering `k=3`, `k=6` and `k=12` months of data following `t`.\n",
        "\n",
        "<table>\n",
        "    <thead>\n",
        "        <tr>\n",
        "            <th>Evaluation year</th>\n",
        "            <th>Next 3 months</th>\n",
        "            <th>Next 6 months</th>\n",
        "            <th>Next 12 months</th>\n",
        "        </tr>\n",
        "    </thead>\n",
        "    <tbody>\n",
        "        <tr>\n",
        "            <td>1987</td>\n",
        "            <td></td>\n",
        "            <td></td>\n",
        "            <td></td>\n",
        "        </tr>\n",
        "        <tr>\n",
        "            <td>1988</td>\n",
        "            <td></td>\n",
        "            <td></td>\n",
        "            <td></td>\n",
        "        </tr>\n",
        "        <tr>\n",
        "            <td>1989</td>\n",
        "            <td></td>\n",
        "            <td></td>\n",
        "            <td></td>\n",
        "        </tr>\n",
        "    </tbody>\n",
        "</table>"
      ]
    },
    {
      "cell_type": "code",
      "execution_count": null,
      "id": "a4e94891",
      "metadata": {
        "id": "a4e94891"
      },
      "outputs": [],
      "source": [
        ""
      ]
    }
  ],
  "metadata": {
    "kernelspec": {
      "display_name": "Python 3",
      "language": "python",
      "name": "python3"
    },
    "language_info": {
      "codemirror_mode": {
        "name": "ipython",
        "version": 3
      },
      "file_extension": ".py",
      "mimetype": "text/x-python",
      "name": "python",
      "nbconvert_exporter": "python",
      "pygments_lexer": "ipython3",
      "version": "3.8.8"
    },
    "colab": {
      "name": "Untitled.ipynb",
      "provenance": [],
      "collapsed_sections": [],
      "include_colab_link": true
    }
  },
  "nbformat": 4,
  "nbformat_minor": 5
}